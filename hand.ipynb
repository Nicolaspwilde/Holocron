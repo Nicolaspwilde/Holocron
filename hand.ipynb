{
 "cells": [
  {
   "cell_type": "code",
   "execution_count": 7,
   "metadata": {},
   "outputs": [],
   "source": [
    "import tensorflow as tf"
   ]
  },
  {
   "cell_type": "code",
   "execution_count": 11,
   "metadata": {},
   "outputs": [],
   "source": [
    "import numpy as np\n",
    "import matplotlib\n",
    "import matplotlib.pyplot as plt\n",
    "import seaborn as sns"
   ]
  },
  {
   "cell_type": "code",
   "execution_count": 12,
   "metadata": {},
   "outputs": [
    {
     "name": "stdout",
     "output_type": "stream",
     "text": [
      "Downloading data from https://storage.googleapis.com/tensorflow/tf-keras-datasets/mnist.npz\n",
      "11490434/11490434 [==============================] - 8s 1us/step\n"
     ]
    }
   ],
   "source": [
    "(x_train,y_train),(x_test,y_test)=tf.keras.datasets.mnist.load_data()\n"
   ]
  },
  {
   "cell_type": "code",
   "execution_count": 13,
   "metadata": {},
   "outputs": [
    {
     "name": "stderr",
     "output_type": "stream",
     "text": [
      "c:\\Users\\abhim\\AppData\\Local\\Programs\\Python\\Python310\\lib\\site-packages\\seaborn\\_decorators.py:36: FutureWarning: Pass the following variable as a keyword arg: x. From version 0.12, the only valid positional argument will be `data`, and passing other arguments without an explicit keyword will result in an error or misinterpretation.\n",
      "  warnings.warn(\n"
     ]
    },
    {
     "data": {
      "text/plain": [
       "<AxesSubplot:ylabel='count'>"
      ]
     },
     "execution_count": 13,
     "metadata": {},
     "output_type": "execute_result"
    },
    {
     "data": {
      "image/png": "[encoded data removed]",
      "text/plain": [
       "<Figure size 720x576 with 1 Axes>"
      ]
     },
     "metadata": {
      "needs_background": "light"
     },
     "output_type": "display_data"
    }
   ],
   "source": [
    "plt.figure(figsize = (10,8))\n",
    "sns.countplot(y_train)\n"
   ]
  },
  {
   "cell_type": "code",
   "execution_count": 14,
   "metadata": {},
   "outputs": [
    {
     "data": {
      "image/png": "[encoded data removed]",
      "text/plain": [
       "<Figure size 720x288 with 5 Axes>"
      ]
     },
     "metadata": {
      "needs_background": "light"
     },
     "output_type": "display_data"
    }
   ],
   "source": [
    "fig, axes = plt.subplots(ncols=5, sharex=False, \n",
    "    sharey=True, figsize=(10, 4))\n",
    "for i in range(5):\n",
    "    axes[i].set_title(y_train[i])\n",
    "    axes[i].imshow(x_train[i], cmap='gray_r')\n",
    "    axes[i].get_xaxis().set_visible(False)\n",
    "    axes[i].get_yaxis().set_visible(False)\n",
    "plt.show()"
   ]
  },
  {
   "cell_type": "code",
   "execution_count": 15,
   "metadata": {},
   "outputs": [
    {
     "name": "stdout",
     "output_type": "stream",
     "text": [
      "Training images shape :  (60000, 28, 28)\n",
      "Testing images shape :  (10000, 28, 28)\n"
     ]
    }
   ],
   "source": [
    "print('Training images shape : ',x_train.shape)\n",
    "print('Testing images shape : ',x_test.shape)"
   ]
  },
  {
   "cell_type": "code",
   "execution_count": 17,
   "metadata": {},
   "outputs": [],
   "source": [
    "x_train = x_train.reshape(x_train.shape[0], 28, 28, 1)\n",
    "x_test = x_test.reshape(x_test.shape[0], 28, 28, 1)\n",
    "input_shape = (28, 28, 1)\n"
   ]
  },
  {
   "cell_type": "code",
   "execution_count": 18,
   "metadata": {},
   "outputs": [],
   "source": [
    "x_train=x_train/255.0\n",
    "x_testg=x_test/255.0\n",
    "num_classes = 10"
   ]
  },
  {
   "cell_type": "code",
   "execution_count": 19,
   "metadata": {},
   "outputs": [],
   "source": [
    "from tensorflow.keras.models import Sequential\n",
    "from tensorflow.keras.layers import Dense, Dropout, Flatten,Activation\n",
    "from tensorflow.keras.layers import Conv2D,MaxPooling2D\n",
    "from tensorflow.keras.layers import BatchNormalization"
   ]
  },
  {
   "cell_type": "code",
   "execution_count": 20,
   "metadata": {},
   "outputs": [],
   "source": [
    "model = Sequential()\n",
    "\n",
    "model.add(Conv2D(128, kernel_size=(3, 3),\n",
    "                 activation=tf.nn.relu,\n",
    "                 input_shape=input_shape))\n",
    "model.add(BatchNormalization())\n",
    "model.add(Dropout(0.3))\n",
    "\n",
    "model.add(Conv2D(64, (3, 3), activation=tf.nn.relu))\n",
    "model.add(BatchNormalization())\n",
    "model.add(Dropout(0.3))\n",
    "\n",
    "model.add(Conv2D(32, (3, 3), activation=tf.nn.relu))\n",
    "model.add(BatchNormalization())\n",
    "model.add(Dropout(0.3))\n",
    "\n",
    "\n",
    "model.add(MaxPooling2D(pool_size=(2, 2)))\n",
    "model.add(Dropout(0.3))\n",
    "model.add(Flatten())\n",
    "model.add(Dense(128, activation=tf.nn.relu))\n",
    "model.add(Dropout(0.3))\n",
    "model.add(Dense(num_classes, activation=tf.nn.softmax))"
   ]
  },
  {
   "cell_type": "code",
   "execution_count": 21,
   "metadata": {},
   "outputs": [
    {
     "name": "stdout",
     "output_type": "stream",
     "text": [
      "Model: \"sequential\"\n",
      "_________________________________________________________________\n",
      " Layer (type)                Output Shape              Param #   \n",
      "=================================================================\n",
      " conv2d (Conv2D)             (None, 26, 26, 128)       1280      \n",
      "                                                                 \n",
      " batch_normalization (BatchN  (None, 26, 26, 128)      512       \n",
      " ormalization)                                                   \n",
      "                                                                 \n",
      " dropout (Dropout)           (None, 26, 26, 128)       0         \n",
      "                                                                 \n",
      " conv2d_1 (Conv2D)           (None, 24, 24, 64)        73792     \n",
      "                                                                 \n",
      " batch_normalization_1 (Batc  (None, 24, 24, 64)       256       \n",
      " hNormalization)                                                 \n",
      "                                                                 \n",
      " dropout_1 (Dropout)         (None, 24, 24, 64)        0         \n",
      "                                                                 \n",
      " conv2d_2 (Conv2D)           (None, 22, 22, 32)        18464     \n",
      "                                                                 \n",
      " batch_normalization_2 (Batc  (None, 22, 22, 32)       128       \n",
      " hNormalization)                                                 \n",
      "                                                                 \n",
      " dropout_2 (Dropout)         (None, 22, 22, 32)        0         \n",
      "                                                                 \n",
      " max_pooling2d (MaxPooling2D  (None, 11, 11, 32)       0         \n",
      " )                                                               \n",
      "                                                                 \n",
      " dropout_3 (Dropout)         (None, 11, 11, 32)        0         \n",
      "                                                                 \n",
      " flatten (Flatten)           (None, 3872)              0         \n",
      "                                                                 \n",
      " dense (Dense)               (None, 128)               495744    \n",
      "                                                                 \n",
      " dropout_4 (Dropout)         (None, 128)               0         \n",
      "                                                                 \n",
      " dense_1 (Dense)             (None, 10)                1290      \n",
      "                                                                 \n",
      "=================================================================\n",
      "Total params: 591,466\n",
      "Trainable params: 591,018\n",
      "Non-trainable params: 448\n",
      "_________________________________________________________________\n"
     ]
    }
   ],
   "source": [
    "model.summary()\n"
   ]
  },
  {
   "cell_type": "code",
   "execution_count": 22,
   "metadata": {},
   "outputs": [
    {
     "name": "stdout",
     "output_type": "stream",
     "text": [
      "Epoch 1/10\n",
      "1688/1688 [==============================] - 389s 230ms/step - loss: 0.2622 - accuracy: 0.9225 - val_loss: 0.0688 - val_accuracy: 0.9832\n",
      "Epoch 2/10\n",
      "1688/1688 [==============================] - 380s 225ms/step - loss: 0.1103 - accuracy: 0.9674 - val_loss: 0.0928 - val_accuracy: 0.9827\n",
      "Epoch 3/10\n",
      "1688/1688 [==============================] - 379s 225ms/step - loss: 0.0878 - accuracy: 0.9738 - val_loss: 0.0619 - val_accuracy: 0.9883\n",
      "Epoch 4/10\n",
      "1688/1688 [==============================] - 376s 223ms/step - loss: 0.0761 - accuracy: 0.9781 - val_loss: 0.1395 - val_accuracy: 0.9778\n",
      "Epoch 5/10\n",
      "1688/1688 [==============================] - 472s 280ms/step - loss: 0.0648 - accuracy: 0.9812 - val_loss: 0.1570 - val_accuracy: 0.9808\n",
      "Epoch 6/10\n",
      "1688/1688 [==============================] - 958s 567ms/step - loss: 0.0555 - accuracy: 0.9830 - val_loss: 0.1015 - val_accuracy: 0.9843\n",
      "Epoch 7/10\n",
      "1688/1688 [==============================] - 945s 560ms/step - loss: 0.0523 - accuracy: 0.9848 - val_loss: 0.0859 - val_accuracy: 0.9865\n",
      "Epoch 8/10\n",
      "1688/1688 [==============================] - 1489s 881ms/step - loss: 0.0478 - accuracy: 0.9858 - val_loss: 0.1322 - val_accuracy: 0.9828\n",
      "Epoch 9/10\n",
      "1688/1688 [==============================] - 1019s 604ms/step - loss: 0.0440 - accuracy: 0.9870 - val_loss: 0.1022 - val_accuracy: 0.9870\n",
      "Epoch 10/10\n",
      "1688/1688 [==============================] - 431s 255ms/step - loss: 0.0422 - accuracy: 0.9876 - val_loss: 0.1046 - val_accuracy: 0.9840\n"
     ]
    }
   ],
   "source": [
    "model.compile(optimizer='adam', \n",
    "              loss='sparse_categorical_crossentropy', \n",
    "              metrics=['accuracy'])\n",
    "history=model.fit(x=x_train,\n",
    "                  y=y_train,\n",
    "                  validation_split=0.1,\n",
    "                  epochs=10)\n"
   ]
  },
  {
   "cell_type": "code",
   "execution_count": 24,
   "metadata": {},
   "outputs": [],
   "source": [
    "from tensorflow.keras.models import load_model\n",
    "model = load_model('MNproject.h5')"
   ]
  },
  {
   "cell_type": "code",
   "execution_count": 23,
   "metadata": {},
   "outputs": [],
   "source": [
    "model.save('MNproject.h5')\n"
   ]
  },
  {
   "cell_type": "code",
   "execution_count": 25,
   "metadata": {},
   "outputs": [
    {
     "name": "stdout",
     "output_type": "stream",
     "text": [
      "313/313 [==============================] - 11s 35ms/step - loss: 3.4610 - accuracy: 0.9842\n",
      "Test Loss 3.461000680923462\n",
      "Test Accuracy 0.9842000007629395\n"
     ]
    }
   ],
   "source": [
    "loss_and_acc=model.evaluate(x_test,y_test)\n",
    "print(\"Test Loss\", loss_and_acc[0])\n",
    "print(\"Test Accuracy\", loss_and_acc[1])"
   ]
  },
  {
   "cell_type": "code",
   "execution_count": 26,
   "metadata": {},
   "outputs": [
    {
     "data": {
      "image/png": "[encoded data removed]",
      "text/plain": [
       "<Figure size 1440x432 with 2 Axes>"
      ]
     },
     "metadata": {
      "needs_background": "light"
     },
     "output_type": "display_data"
    }
   ],
   "source": [
    "acc = history.history['accuracy']\n",
    "val_acc = history.history['val_accuracy']\n",
    "loss = history.history['loss']\n",
    "val_loss = history.history['val_loss']\n",
    "epochs = range(len(acc))\n",
    "\n",
    "fig, ax = plt.subplots(nrows=1, ncols=2, figsize=(20, 6))\n",
    "ax[0].plot(epochs, acc, 'y', label='Training accuracy')\n",
    "ax[0].plot(epochs, val_acc, 'g', label='Validation accuracy')\n",
    "ax[0].legend(loc=0)\n",
    "ax[1].plot(epochs, loss, 'y', label='Training loss')\n",
    "ax[1].plot(epochs, val_loss, 'g', label='Validation loss')\n",
    "ax[1].legend(loc=0)\n",
    "\n",
    "plt.suptitle('Training and validation')\n",
    "plt.show()"
   ]
  },
  {
   "cell_type": "code",
   "execution_count": 27,
   "metadata": {},
   "outputs": [
    {
     "name": "stdout",
     "output_type": "stream",
     "text": [
      "313/313 [==============================] - 13s 41ms/step\n"
     ]
    },
    {
     "data": {
      "text/plain": [
       "<tf.Tensor: shape=(10, 10), dtype=int32, numpy=\n",
       "array([[ 972,    0,    1,    0,    0,    0,    5,    1,    0,    1],\n",
       "       [   0, 1128,    4,    0,    1,    0,    2,    0,    0,    0],\n",
       "       [   2,    0, 1022,    0,    4,    0,    0,    1,    3,    0],\n",
       "       [   0,    0,    4,  994,    1,    2,    0,    2,    6,    1],\n",
       "       [   0,    0,    0,    0,  980,    0,    0,    0,    2,    0],\n",
       "       [   1,    0,    0,    6,    0,  855,   14,    0,   13,    3],\n",
       "       [   3,    2,    0,    0,    5,    0,  948,    0,    0,    0],\n",
       "       [   0,    1,   13,    1,    1,    0,    0, 1009,    1,    2],\n",
       "       [   2,    0,    2,    0,    0,    0,    1,    1,  967,    1],\n",
       "       [   3,    0,    0,    1,   24,    0,    0,    3,   11,  967]])>"
      ]
     },
     "execution_count": 27,
     "metadata": {},
     "output_type": "execute_result"
    }
   ],
   "source": [
    "y_predicted = model.predict(x_test)\n",
    "y_predicted_labels = [np.argmax(i) for i in y_predicted]\n",
    "cm = tf.math.confusion_matrix(labels=y_test,predictions=y_predicted_labels)\n",
    "cm"
   ]
  },
  {
   "cell_type": "code",
   "execution_count": 28,
   "metadata": {},
   "outputs": [
    {
     "name": "stdout",
     "output_type": "stream",
     "text": [
      "313/313 [==============================] - 11s 35ms/step\n",
      "Predicted Value:  9\n",
      "Successful prediction\n"
     ]
    },
    {
     "data": {
      "image/png": "[encoded data removed]",
      "text/plain": [
       "<Figure size 432x288 with 1 Axes>"
      ]
     },
     "metadata": {
      "needs_background": "light"
     },
     "output_type": "display_data"
    }
   ],
   "source": [
    "plt.imshow(x_test[7],cmap='gray_r')\n",
    "plt.title('Actual Value: {}'.format(y_test[7]))\n",
    "prediction=model.predict(x_test)\n",
    "\n",
    "plt.axis('off')\n",
    "print('Predicted Value: ',np.argmax(prediction[7]))\n",
    "if(y_test[7]==(np.argmax(prediction[7]))):\n",
    "  print('Successful prediction')\n",
    "else:\n",
    "  print('Unsuccessful prediction')"
   ]
  },
  {
   "cell_type": "code",
   "execution_count": 30,
   "metadata": {},
   "outputs": [
    {
     "name": "stdout",
     "output_type": "stream",
     "text": [
      "313/313 [==============================] - 11s 34ms/step\n",
      "Predicted Value:  2\n",
      "Successful prediction\n"
     ]
    },
    {
     "data": {
      "image/png": "[encoded data removed]",
      "text/plain": [
       "<Figure size 432x288 with 1 Axes>"
      ]
     },
     "metadata": {
      "needs_background": "light"
     },
     "output_type": "display_data"
    }
   ],
   "source": [
    "plt.imshow(x_test[1],cmap='gray_r')\n",
    "plt.title('Actual Value: {}'.format(y_test[1]))\n",
    "prediction=model.predict(x_test)\n",
    "plt.axis('off')\n",
    "print('Predicted Value: ',np.argmax(prediction[1]))\n",
    "if(y_test[1]==(np.argmax(prediction[1]))):\n",
    "  print('Successful prediction')\n",
    "else:\n",
    "  print('Unsuccessful prediction')"
   ]
  }
 ],
 "metadata": {
  "kernelspec": {
   "display_name": "Python 3.10.2 64-bit",
   "language": "python",
   "name": "python3"
  },
  "language_info": {
   "codemirror_mode": {
    "name": "ipython",
    "version": 3
   },
   "file_extension": ".py",
   "mimetype": "text/x-python",
   "name": "python",
   "nbconvert_exporter": "python",
   "pygments_lexer": "ipython3",
   "version": "3.10.2"
  },
  "orig_nbformat": 4,
  "vscode": {
   "interpreter": {
    "hash": "0f1e77bfc00ba2265a455bc7b522a8753539d0c91a91a3ed686cc47111f23001"
   }
  }
 },
 "nbformat": 4,
 "nbformat_minor": 2
}
